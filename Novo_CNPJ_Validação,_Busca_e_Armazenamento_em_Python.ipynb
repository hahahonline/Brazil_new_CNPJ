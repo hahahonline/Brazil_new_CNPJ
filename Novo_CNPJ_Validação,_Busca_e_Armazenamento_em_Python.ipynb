{
  "nbformat": 4,
  "nbformat_minor": 0,
  "metadata": {
    "colab": {
      "provenance": [],
      "authorship_tag": "ABX9TyPhDDTh5AQdU5jggT0Hk8L4",
      "include_colab_link": true
    },
    "kernelspec": {
      "name": "python3",
      "display_name": "Python 3"
    },
    "language_info": {
      "name": "python"
    }
  },
  "cells": [
    {
      "cell_type": "markdown",
      "metadata": {
        "id": "view-in-github",
        "colab_type": "text"
      },
      "source": [
        "<a href=\"https://colab.research.google.com/github/hahahonline/Brazil_new_CNPJ/blob/main/Novo_CNPJ_Valida%C3%A7%C3%A3o%2C_Busca_e_Armazenamento_em_Python.ipynb\" target=\"_parent\"><img src=\"https://colab.research.google.com/assets/colab-badge.svg\" alt=\"Open In Colab\"/></a>"
      ]
    },
    {
      "cell_type": "code",
      "source": [
        "import re"
      ],
      "metadata": {
        "id": "OuTxKybVbN37"
      },
      "execution_count": 1,
      "outputs": []
    },
    {
      "cell_type": "code",
      "source": [
        "def validar_cnpj(cnpj):\n",
        "    \"\"\"\n",
        "    Valida o CNPJ verificando se tem 14 caracteres alfanuméricos.\n",
        "    \"\"\"\n",
        "    if len(cnpj) != 14:\n",
        "        return False\n",
        "    if not re.match(\"^[A-Za-z0-9]*$\", cnpj):\n",
        "        return False\n",
        "    return True\n",
        "\n",
        "\n",
        "def buscar_cnpj(lista_cnpjs, cnpj):\n",
        "    \"\"\"\n",
        "    Busca o CNPJ na lista de registros e retorna o CNPJ se encontrado.\n",
        "    \"\"\"\n",
        "    if cnpj in lista_cnpjs:\n",
        "        return cnpj\n",
        "    return None\n",
        "\n",
        "\n",
        "def armazenar_cnpj(dicionario_cnpjs, cnpj, dados):\n",
        "    \"\"\"\n",
        "    Armazena o CNPJ em um dicionário junto com seus dados associados.\n",
        "    \"\"\"\n",
        "    if validar_cnpj(cnpj):\n",
        "        dicionario_cnpjs[cnpj] = dados\n",
        "        return True\n",
        "    return False\n",
        "\n",
        "\n",
        "def mostrar_busca_cnpj(dicionario_cnpjs, cnpj):\n",
        "    resultado = buscar_cnpj(dicionario_cnpjs, cnpj)\n",
        "    if resultado:\n",
        "        print(f'CNPJ {cnpj} encontrado: {dicionario_cnpjs[cnpj]}')\n",
        "    else:\n",
        "        print(f'CNPJ {cnpj} não encontrado.')\n"
      ],
      "metadata": {
        "id": "Rk2osJWrbQNF"
      },
      "execution_count": 4,
      "outputs": []
    },
    {
      "cell_type": "code",
      "execution_count": 5,
      "metadata": {
        "colab": {
          "base_uri": "https://localhost:8080/"
        },
        "id": "6dwgww72bD-V",
        "outputId": "463cf0e9-79f5-4b48-a102-0a9cd475ee9b"
      },
      "outputs": [
        {
          "output_type": "stream",
          "name": "stdout",
          "text": [
            "CNPJ AB123456789012 armazenado com sucesso.\n",
            "CNPJ CD987654321098 armazenado com sucesso.\n",
            "CNPJ EF1234567890XZ armazenado com sucesso.\n",
            "CNPJ GH123456789012 armazenado com sucesso.\n",
            "CNPJ IJ12345678901A armazenado com sucesso.\n",
            "Digite o CNPJ que deseja buscar: CD987654321098\n",
            "CNPJ CD987654321098 encontrado: {'empresa': 'Empresa do bruno', 'endereco': 'Rua Ipanema, 456'}\n"
          ]
        }
      ],
      "source": [
        "#aqui é uma simples demonstração de uso das funções com uma lista de CNPJs para busca\n",
        "cnpjs_ficticios = [\n",
        "    'AB123456789012',  # válido\n",
        "    'CD987654321098',  # válido\n",
        "    'EF1234567890XZ',  # inválido (contém caracteres não permitidos)\n",
        "    'GH123456789012',  # válido\n",
        "    'IJ12345678901A'   # inválido (menos de 14 caracteres)\n",
        "]\n",
        "\n",
        "#dicionário\n",
        "dicionario_cnpjs = {}\n",
        "\n",
        "# Dados fictícios para os CNPJs\n",
        "dados_ficticios = [\n",
        "    {'empresa': 'Empresa do joão', 'endereco': 'Rua do Limoeiro, 123'},\n",
        "    {'empresa': 'Empresa do bruno', 'endereco': 'Rua Ipanema, 456'},\n",
        "    {'empresa': 'Empresa da maria', 'endereco': 'Rua dos Carecas, 789'},\n",
        "    {'empresa': 'Empresa do leandro', 'endereco': 'Rua da Boa Vida, 1011'}\n",
        "]\n",
        "\n",
        "#armazenando CNPJs válidos no dicionário\n",
        "for i, cnpj in enumerate(cnpjs_ficticios):\n",
        "    if armazenar_cnpj(dicionario_cnpjs, cnpj, dados_ficticios[i % len(dados_ficticios)]):\n",
        "        print(f'CNPJ {cnpj} armazenado com sucesso.')\n",
        "    else:\n",
        "        print(f'CNPJ {cnpj} inválido e não foi armazenado.')\n",
        "\n",
        "\n",
        "# Exemplo de busca por CNPJ\n",
        "\n",
        "cnpj_para_buscar = input(\"Digite o CNPJ que deseja buscar: \") #exemplo: CD987654321098\n",
        "mostrar_busca_cnpj(dicionario_cnpjs, cnpj_para_buscar)\n"
      ]
    }
  ]
}